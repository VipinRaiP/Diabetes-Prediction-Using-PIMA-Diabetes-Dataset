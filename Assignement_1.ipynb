{
 "cells": [
  {
   "cell_type": "markdown",
   "metadata": {},
   "source": [
    "# DIABETES PREDICTION USING PIMA DIABETES DATASET\n"
   ]
  },
  {
   "cell_type": "code",
   "execution_count": 1,
   "metadata": {},
   "outputs": [],
   "source": [
    "import numpy as np\n",
    "import pandas as pd\n",
    "import seaborn as sns\n",
    "import matplotlib.pyplot as plt"
   ]
  },
  {
   "cell_type": "code",
   "execution_count": 2,
   "metadata": {},
   "outputs": [
    {
     "name": "stdout",
     "output_type": "stream",
     "text": [
      "Data dimension: (768, 9)\n"
     ]
    },
    {
     "data": {
      "text/html": [
       "<div>\n",
       "<style scoped>\n",
       "    .dataframe tbody tr th:only-of-type {\n",
       "        vertical-align: middle;\n",
       "    }\n",
       "\n",
       "    .dataframe tbody tr th {\n",
       "        vertical-align: top;\n",
       "    }\n",
       "\n",
       "    .dataframe thead th {\n",
       "        text-align: right;\n",
       "    }\n",
       "</style>\n",
       "<table border=\"1\" class=\"dataframe\">\n",
       "  <thead>\n",
       "    <tr style=\"text-align: right;\">\n",
       "      <th></th>\n",
       "      <th>Pregnancies</th>\n",
       "      <th>Glucose</th>\n",
       "      <th>BloodPressure</th>\n",
       "      <th>SkinThickness</th>\n",
       "      <th>Insulin</th>\n",
       "      <th>BMI</th>\n",
       "      <th>DiabetesPedigreeFunction</th>\n",
       "      <th>Age</th>\n",
       "      <th>Outcome</th>\n",
       "    </tr>\n",
       "  </thead>\n",
       "  <tbody>\n",
       "    <tr>\n",
       "      <th>0</th>\n",
       "      <td>6.0</td>\n",
       "      <td>148.0</td>\n",
       "      <td>72.0</td>\n",
       "      <td>35.0</td>\n",
       "      <td>0.0</td>\n",
       "      <td>33.600000</td>\n",
       "      <td>0.627</td>\n",
       "      <td>50.0</td>\n",
       "      <td>1</td>\n",
       "    </tr>\n",
       "    <tr>\n",
       "      <th>1</th>\n",
       "      <td>1.0</td>\n",
       "      <td>85.0</td>\n",
       "      <td>66.0</td>\n",
       "      <td>29.0</td>\n",
       "      <td>0.0</td>\n",
       "      <td>26.600000</td>\n",
       "      <td>0.351</td>\n",
       "      <td>31.0</td>\n",
       "      <td>0</td>\n",
       "    </tr>\n",
       "    <tr>\n",
       "      <th>2</th>\n",
       "      <td>8.0</td>\n",
       "      <td>183.0</td>\n",
       "      <td>64.0</td>\n",
       "      <td>0.0</td>\n",
       "      <td>0.0</td>\n",
       "      <td>23.300000</td>\n",
       "      <td>0.672</td>\n",
       "      <td>32.0</td>\n",
       "      <td>1</td>\n",
       "    </tr>\n",
       "    <tr>\n",
       "      <th>3</th>\n",
       "      <td>1.0</td>\n",
       "      <td>89.0</td>\n",
       "      <td>66.0</td>\n",
       "      <td>23.0</td>\n",
       "      <td>94.0</td>\n",
       "      <td>19.179925</td>\n",
       "      <td>0.167</td>\n",
       "      <td>21.0</td>\n",
       "      <td>0</td>\n",
       "    </tr>\n",
       "    <tr>\n",
       "      <th>4</th>\n",
       "      <td>0.0</td>\n",
       "      <td>137.0</td>\n",
       "      <td>40.0</td>\n",
       "      <td>35.0</td>\n",
       "      <td>168.0</td>\n",
       "      <td>43.100000</td>\n",
       "      <td>2.288</td>\n",
       "      <td>33.0</td>\n",
       "      <td>1</td>\n",
       "    </tr>\n",
       "  </tbody>\n",
       "</table>\n",
       "</div>"
      ],
      "text/plain": [
       "   Pregnancies  Glucose  BloodPressure  SkinThickness  Insulin        BMI  \\\n",
       "0          6.0    148.0           72.0           35.0      0.0  33.600000   \n",
       "1          1.0     85.0           66.0           29.0      0.0  26.600000   \n",
       "2          8.0    183.0           64.0            0.0      0.0  23.300000   \n",
       "3          1.0     89.0           66.0           23.0     94.0  19.179925   \n",
       "4          0.0    137.0           40.0           35.0    168.0  43.100000   \n",
       "\n",
       "   DiabetesPedigreeFunction   Age  Outcome  \n",
       "0                     0.627  50.0        1  \n",
       "1                     0.351  31.0        0  \n",
       "2                     0.672  32.0        1  \n",
       "3                     0.167  21.0        0  \n",
       "4                     2.288  33.0        1  "
      ]
     },
     "execution_count": 2,
     "metadata": {},
     "output_type": "execute_result"
    }
   ],
   "source": [
    "df = pd.read_csv(\"Pima_Indian_diabetes.csv\")\n",
    "print(\"Data dimension:\",df.shape)\n",
    "df.head()"
   ]
  },
  {
   "cell_type": "code",
   "execution_count": 3,
   "metadata": {},
   "outputs": [
    {
     "name": "stdout",
     "output_type": "stream",
     "text": [
      "Data points per class:\n",
      "\n"
     ]
    },
    {
     "data": {
      "text/plain": [
       "0    500\n",
       "1    268\n",
       "Name: Outcome, dtype: int64"
      ]
     },
     "execution_count": 3,
     "metadata": {},
     "output_type": "execute_result"
    }
   ],
   "source": [
    "print(\"Data points per class:\\n\")\n",
    "df['Outcome'].value_counts()"
   ]
  },
  {
   "cell_type": "markdown",
   "metadata": {},
   "source": [
    "## Overview of PIMA Diabetes Dataset"
   ]
  },
  {
   "cell_type": "markdown",
   "metadata": {},
   "source": [
    "\n",
    "\n",
    "1. Number of data points : 768\n",
    "   <br><br>\n",
    "2. Number of features   : 8\n",
    "   <br><br>\n",
    "3. Features :\n",
    "   <br><br>\n",
    " 1. Pregnancies : Number of times pregnant\n",
    "\n",
    " 2. Glucose : Plasma glucose concentration (2 hours in an oral glucose tolerance test)\n",
    "                           \n",
    " 3. BloodPressure : Diastolic blood pressure (mm Hg)\n",
    "                           \n",
    " 4. SkinThickness : Triceps skin fold thickness (mm) \n",
    " \n",
    " 5. Insulin : 2-Hour serum insulin (mu U/ml)\n",
    "  \n",
    " 6. BMI : Body mass index\n",
    " \n",
    " 7. DiabetesPedigreeFunction - Diabetes pedigree function \n",
    " \n",
    " 8. Age : Age in years              \n",
    " <br><br>                          \n",
    "4. Number of classes : 2\n",
    "\n",
    " 1. class '1' = Patient tested positive for diabetes\n",
    "                           \n",
    " 2. class '0' = Patient tested negative for diabetes\n",
    "  <br><br>                         \n",
    "5. Data points per class :                           \n",
    "                          \n",
    " 1. class '1' : 268\n",
    "                          \n",
    " 2. class '0' : 500\n"
   ]
  },
  {
   "cell_type": "markdown",
   "metadata": {},
   "source": [
    "## Data Preprocessing"
   ]
  },
  {
   "cell_type": "markdown",
   "metadata": {},
   "source": [
    "### 1. Handling missing values"
   ]
  },
  {
   "cell_type": "code",
   "execution_count": 4,
   "metadata": {},
   "outputs": [
    {
     "name": "stdout",
     "output_type": "stream",
     "text": [
      "Number of data points with missing Pregnancies value :  26\n",
      "Number of data points with missing Glucose value :  16\n",
      "Number of data points with missing BloodPressure value :  0\n",
      "Number of data points with missing SkinThickness value :  22\n",
      "Number of data points with missing Insulin value :  0\n",
      "Number of data points with missing BMI value :  11\n",
      "Number of data points with missing DiabetesPedigreeFunction value :  0\n",
      "Number of data points with missing Age value :  19\n",
      "Number of data points with missing Outcome value :  0\n"
     ]
    }
   ],
   "source": [
    "print(\"Number of data points with missing Pregnancies value : \",df.Pregnancies.isnull().sum())\n",
    "print(\"Number of data points with missing Glucose value : \",df.Glucose.isnull().sum())\n",
    "print(\"Number of data points with missing BloodPressure value : \",df.BloodPressure.isnull().sum())\n",
    "print(\"Number of data points with missing SkinThickness value : \",df.SkinThickness.isnull().sum())\n",
    "print(\"Number of data points with missing Insulin value : \",df.Insulin.isnull().sum())\n",
    "print(\"Number of data points with missing BMI value : \",df.BMI.isnull().sum())\n",
    "print(\"Number of data points with missing DiabetesPedigreeFunction value : \",df.DiabetesPedigreeFunction.isnull().sum())\n",
    "print(\"Number of data points with missing Age value : \",df.Age.isnull().sum())\n",
    "print(\"Number of data points with missing Outcome value : \",df.Outcome.isnull().sum())\n"
   ]
  },
  {
   "cell_type": "markdown",
   "metadata": {},
   "source": [
    "#### Observations :\n",
    "\n"
   ]
  },
  {
   "cell_type": "markdown",
   "metadata": {},
   "source": [
    "1. Columns containing missing data points cannot be filled with mean values as columns contains values corresponding to different patients. It is absurd to infer the missing data of a patient from distribution of data belonging to other patients.\n",
    "<br><br>\n",
    "2. Since the number of datapoints with missing values are less so we can replace the rows with missing values by 0 "
   ]
  },
  {
   "cell_type": "code",
   "execution_count": 5,
   "metadata": {},
   "outputs": [],
   "source": [
    "df.Pregnancies.fillna(value = 0, inplace = True)\n",
    "df.Glucose.fillna(value = 0, inplace = True)\n",
    "df.BloodPressure.fillna(value = 0, inplace = True)\n",
    "df.SkinThickness.fillna(value = 0, inplace = True)\n",
    "df.Insulin.fillna(value = 0, inplace = True)\n",
    "df.BMI.fillna(value = 0, inplace = True)\n",
    "df.DiabetesPedigreeFunction.fillna(value = 0, inplace = True)\n",
    "df.Age.fillna(value = 0, inplace = True)"
   ]
  },
  {
   "cell_type": "code",
   "execution_count": 6,
   "metadata": {},
   "outputs": [
    {
     "name": "stdout",
     "output_type": "stream",
     "text": [
      "Number of data points with zero Pregnancies value :  132\n",
      "Number of data points with zero Glucose value :  21\n",
      "Number of data points with zero for BloodPressure value :  32\n",
      "Number of data points with zero SkinThickness value :  237\n",
      "Number of data points with zero Insulin value :  374\n",
      "Number of data points with zero BMI value :  21\n",
      "Number of data points with zero DiabetesPedigreeFunction value :  0\n",
      "Number of data points with zero Age value :  19\n"
     ]
    }
   ],
   "source": [
    "print(\"Number of data points with zero Pregnancies value : \",df[df.Pregnancies == 0].shape[0])\n",
    "print(\"Number of data points with zero Glucose value : \",df[df.Glucose == 0].shape[0])\n",
    "print(\"Number of data points with zero for BloodPressure value : \",df[df.BloodPressure == 0].shape[0])\n",
    "print(\"Number of data points with zero SkinThickness value : \",df[df.SkinThickness == 0].shape[0])\n",
    "print(\"Number of data points with zero Insulin value : \",df[df.Insulin == 0].shape[0])\n",
    "print(\"Number of data points with zero BMI value : \",df[df.BMI == 0].shape[0])\n",
    "print(\"Number of data points with zero DiabetesPedigreeFunction value : \",df[df.DiabetesPedigreeFunction == 0].shape[0])\n",
    "print(\"Number of data points with zero Age value : \",df[df.Age == 0].shape[0])"
   ]
  },
  {
   "cell_type": "markdown",
   "metadata": {},
   "source": [
    "#### Observations :"
   ]
  },
  {
   "cell_type": "markdown",
   "metadata": {},
   "source": [
    "1. Features SkinThickness and Insulin contains large number of zero values. Hence these two features can be ignored.\n",
    "<br> <br>\n",
    "2. Columns Glucose,BloodPressure,BMI,Age cannot contain zero values. Those parameters will be greater than zero for a patient. Thus rows containing zero value for those features can be eliminated.\n",
    "<br><br>\n",
    "3. Pregnancies feature can contain zero values and such rows are retained.\n",
    "<br><br>\n",
    "4. In the next step rows containing negative values for features Pregancies,Glucose,BloodPressure,BMI,Age are eliminated. Negative value for those parameters are not valid\n",
    "<br><br>\n",
    "5. Rows containing zero values for features Glucose,BloodPressure,BMI,Age are eliminated."
   ]
  },
  {
   "cell_type": "code",
   "execution_count": 7,
   "metadata": {},
   "outputs": [
    {
     "data": {
      "text/plain": [
       "(676, 7)"
      ]
     },
     "execution_count": 7,
     "metadata": {},
     "output_type": "execute_result"
    }
   ],
   "source": [
    "df=df[df[\"Pregnancies\"]>=0]\n",
    "df=df[df[\"Glucose\"]>0]\n",
    "df = df[df[\"BloodPressure\"]>0]\n",
    "df = df[df[\"BMI\"]>0]\n",
    "preprocDf = df[df[\"Age\"]>0]\n",
    "preprocDf = preprocDf.drop([\"Insulin\"],axis=1)\n",
    "preprocDf = preprocDf.drop([\"SkinThickness\"],axis=1)\n",
    "preprocDf.head()\n",
    "preprocDf.shape"
   ]
  },
  {
   "cell_type": "code",
   "execution_count": 8,
   "metadata": {},
   "outputs": [
    {
     "name": "stdout",
     "output_type": "stream",
     "text": [
      "Number of data points with zero Pregnancies value :  113\n",
      "Number of data points with zero GLucose value :  0\n",
      "Number of data points with zero for BloodPressure value :  0\n",
      "Number of data points with zero BMI value :  0\n",
      "Number of data points with zero DiabetesPedigreeFunction value :  0\n",
      "Number of data points with zero Age value :  0\n"
     ]
    }
   ],
   "source": [
    "print(\"Number of data points with zero Pregnancies value : \",preprocDf[preprocDf.Pregnancies == 0].shape[0])\n",
    "print(\"Number of data points with zero GLucose value : \",preprocDf[preprocDf.Glucose == 0].shape[0])\n",
    "print(\"Number of data points with zero for BloodPressure value : \",preprocDf[preprocDf.BloodPressure == 0].shape[0])\n",
    "print(\"Number of data points with zero BMI value : \",preprocDf[preprocDf.BMI == 0].shape[0])\n",
    "print(\"Number of data points with zero DiabetesPedigreeFunction value : \",preprocDf[preprocDf.DiabetesPedigreeFunction == 0].shape[0])\n",
    "print(\"Number of data points with zero Age value : \",preprocDf[preprocDf.Age == 0].shape[0])"
   ]
  },
  {
   "cell_type": "markdown",
   "metadata": {},
   "source": [
    "## Exploratory Data Analysis"
   ]
  },
  {
   "cell_type": "markdown",
   "metadata": {},
   "source": [
    "### Probability Density Function "
   ]
  },
  {
   "cell_type": "code",
   "execution_count": 9,
   "metadata": {},
   "outputs": [
    {
     "data": {
      "image/png": "[encoded data removed]",
      "text/plain": [
       "<Figure size 413.25x360 with 1 Axes>"
      ]
     },
     "metadata": {
      "needs_background": "light"
     },
     "output_type": "display_data"
    },
    {
     "data": {
      "image/png": "[encoded data removed]",
      "text/plain": [
       "<Figure size 413.25x360 with 1 Axes>"
      ]
     },
     "metadata": {
      "needs_background": "light"
     },
     "output_type": "display_data"
    },
    {
     "data": {
      "image/png": "[encoded data removed]",
      "text/plain": [
       "<Figure size 413.25x360 with 1 Axes>"
      ]
     },
     "metadata": {
      "needs_background": "light"
     },
     "output_type": "display_data"
    }
   ],
   "source": [
    "# Histograms\n",
    "\n",
    "import warnings\n",
    "warnings.filterwarnings(\"ignore\")\n",
    "\n",
    "\n",
    "# Histogram using Pregnancies feature\n",
    "\n",
    "sns.FacetGrid(preprocDf,hue='Outcome',size=5) \\\n",
    "   .map(sns.distplot,'Pregnancies') \\\n",
    "   .add_legend();  \n",
    "plt.xlabel('Number of Pregnancies')\n",
    "plt.ylabel('Count of patients')\n",
    "plt.show();\n",
    "\n",
    "\n",
    "# Histogram of Glucose feature\n",
    "\n",
    "sns.FacetGrid(preprocDf,hue='Outcome',size=5) \\\n",
    "   .map(sns.distplot,'Glucose') \\\n",
    "   .add_legend();  \n",
    "plt.xlabel('Glucose')\n",
    "plt.ylabel('Count of patients')\n",
    "plt.show();\n",
    "\n",
    "\n",
    "# Histogram of BloodPressure feature\n",
    "\n",
    "sns.FacetGrid(preprocDf,hue='Outcome',size=5) \\\n",
    "   .map(sns.distplot,'BloodPressure') \\\n",
    "   .add_legend();  \n",
    "plt.xlabel('Blood Pressure values')\n",
    "plt.ylabel('Count of patients')\n",
    "plt.show();\n",
    "\n",
    "\n"
   ]
  },
  {
   "cell_type": "markdown",
   "metadata": {},
   "source": [
    "#### Observations :"
   ]
  },
  {
   "cell_type": "markdown",
   "metadata": {},
   "source": [
    "1. It can be inferred that patients tested positive for diabetes had higher level of glucose. Most of them had values greter than 130.\n",
    "<br><br>\n",
    "2. BloodPressure values of both the classes patient overlap highly, so it won't be a major feature for classification.\n",
    "<br><br>\n",
    "3. Among patient tested positive for diabetes most of them had number of pergnancies greater than 3."
   ]
  },
  {
   "cell_type": "code",
   "execution_count": 10,
   "metadata": {},
   "outputs": [
    {
     "data": {
      "image/png": "[encoded data removed]",
      "text/plain": [
       "<Figure size 413.25x360 with 1 Axes>"
      ]
     },
     "metadata": {
      "needs_background": "light"
     },
     "output_type": "display_data"
    },
    {
     "data": {
      "image/png": "[encoded data removed]",
      "text/plain": [
       "<Figure size 413.25x360 with 1 Axes>"
      ]
     },
     "metadata": {
      "needs_background": "light"
     },
     "output_type": "display_data"
    },
    {
     "data": {
      "image/png": "[encoded data removed]",
      "text/plain": [
       "<Figure size 413.25x360 with 1 Axes>"
      ]
     },
     "metadata": {
      "needs_background": "light"
     },
     "output_type": "display_data"
    }
   ],
   "source": [
    "# Histogram of BMI feature\n",
    "\n",
    "sns.FacetGrid(preprocDf,hue='Outcome',size=5) \\\n",
    "   .map(sns.distplot,'BMI') \\\n",
    "   .add_legend();  \n",
    "plt.xlabel('BMI')\n",
    "plt.ylabel('Count of patients')\n",
    "plt.show()\n",
    "\n",
    "# Histogram of Diabetes pedigree function feature\n",
    "\n",
    "sns.FacetGrid(preprocDf,hue='Outcome',size=5) \\\n",
    "   .map(sns.distplot,'DiabetesPedigreeFunction') \\\n",
    "   .add_legend();  \n",
    "plt.xlabel('Diabetes pedigree function')\n",
    "plt.ylabel('Count of patients')\n",
    "plt.show()\n",
    "\n",
    "# Histogram of Age feature\n",
    "\n",
    "sns.FacetGrid(preprocDf,hue='Outcome',size=5) \\\n",
    "   .map(sns.distplot,'Age') \\\n",
    "   .add_legend();  \n",
    "plt.xlabel('Age')\n",
    "plt.ylabel('Count of patients')\n",
    "plt.show()\n"
   ]
  },
  {
   "cell_type": "markdown",
   "metadata": {},
   "source": [
    "#### Observations :"
   ]
  },
  {
   "cell_type": "markdown",
   "metadata": {},
   "source": [
    "1. Most of the patients with diabetes had BMI value greater than 30.\n",
    "<br><br>\n",
    "2. Among patient tested negative most of them had diabetes pedigree function value less than 0.5 and if it is greater than 0.5 chances of having diabetes is more.\n",
    "<br><br>\n",
    "3. Count of patients with diabetes was higher for age group greater than 30."
   ]
  },
  {
   "cell_type": "markdown",
   "metadata": {},
   "source": [
    "### Box Plots"
   ]
  },
  {
   "cell_type": "markdown",
   "metadata": {},
   "source": [
    "1. Box plot can be used to get more insight about the spread of data.\n",
    "<br><br>\n",
    "2. It will show the 50th , 25th and 75th percentiles vlaues of a particular feature. The length of the box will give the interquartile range (75th - 25th percentile) "
   ]
  },
  {
   "cell_type": "code",
   "execution_count": 11,
   "metadata": {},
   "outputs": [
    {
     "data": {
      "image/png": "[encoded data removed]",
      "text/plain": [
       "<Figure size 432x288 with 1 Axes>"
      ]
     },
     "metadata": {
      "needs_background": "light"
     },
     "output_type": "display_data"
    }
   ],
   "source": [
    "# Box plots \n",
    "\n",
    "positive_preg = preprocDf[preprocDf[\"Outcome\"]==1][\"Pregnancies\"]\n",
    "negative_preg = preprocDf[preprocDf[\"Outcome\"]==0][\"Pregnancies\"]\n",
    "\n",
    "plt.boxplot([positive_preg, negative_preg])\n",
    "plt.xticks([1,2],('Tested Positive','Tested Negative'))\n",
    "plt.ylabel('Number of pregnancies')\n",
    "plt.grid()\n",
    "plt.show()"
   ]
  },
  {
   "cell_type": "markdown",
   "metadata": {},
   "source": [
    "#### Observations :"
   ]
  },
  {
   "cell_type": "markdown",
   "metadata": {},
   "source": [
    "1. More than 50 percent of the patients tested positive for diabetes had atleast 3 pregnancies\n",
    "<br><br>\n",
    "2. 50 percent of patient tested negative had less than 2 pregnancies\n",
    "<br><br>\n",
    "3. It can be inferred that patient with more number of pregancies have higher chances of having diabetes"
   ]
  },
  {
   "cell_type": "code",
   "execution_count": 12,
   "metadata": {},
   "outputs": [
    {
     "data": {
      "image/png": "[encoded data removed]",
      "text/plain": [
       "<Figure size 432x288 with 1 Axes>"
      ]
     },
     "metadata": {
      "needs_background": "light"
     },
     "output_type": "display_data"
    }
   ],
   "source": [
    "positive_glucose = preprocDf[preprocDf[\"Outcome\"]==1][\"Glucose\"]\n",
    "negative_glucose = preprocDf[preprocDf[\"Outcome\"]==0][\"Glucose\"]\n",
    "\n",
    "plt.boxplot([positive_glucose, negative_glucose])\n",
    "plt.xticks([1,2],('Tested Positive','Tested Negative'))\n",
    "plt.ylabel('Glucose level')\n",
    "plt.grid()\n",
    "plt.show()"
   ]
  },
  {
   "cell_type": "markdown",
   "metadata": {},
   "source": [
    "#### Observations :"
   ]
  },
  {
   "cell_type": "markdown",
   "metadata": {},
   "source": [
    "1. More than 70 percent of patients with diabetes had glucode level higher than 120\n",
    "<br><br>\n",
    "2. Among patients tested negative 70 percent of them had glucose level less than 120\n",
    "<br><br>\n",
    "3. It is highly likely that patient has diabetes if his glucose level is more than 120"
   ]
  },
  {
   "cell_type": "code",
   "execution_count": 13,
   "metadata": {},
   "outputs": [
    {
     "data": {
      "image/png": "[encoded data removed]",
      "text/plain": [
       "<Figure size 432x288 with 1 Axes>"
      ]
     },
     "metadata": {
      "needs_background": "light"
     },
     "output_type": "display_data"
    }
   ],
   "source": [
    "positive_glucose = preprocDf[preprocDf[\"Outcome\"]==1][\"BloodPressure\"]\n",
    "negative_glucose = preprocDf[preprocDf[\"Outcome\"]==0][\"BloodPressure\"]\n",
    "\n",
    "plt.boxplot([positive_glucose, negative_glucose])\n",
    "plt.xticks([1,2],('Tested Positive','Tested Negative'))\n",
    "plt.ylabel('BloodPressure level')\n",
    "plt.grid()\n",
    "plt.show()"
   ]
  },
  {
   "cell_type": "markdown",
   "metadata": {},
   "source": [
    "#### Observations :"
   ]
  },
  {
   "cell_type": "markdown",
   "metadata": {},
   "source": [
    "1. Among of the patient tested negative for diabetes more than 75 percent of them had blood pressure in the range of 60 to 80 mm Hg\n",
    "<br><br>\n",
    "2. More than 50 percent of patients with diabetes had blood pressure higher than 70 mm Hg\n",
    "<br><br>\n",
    "3. Blood Pressure ranges are mostly overlaping for both classes of patients , however patient with blood pressure greater than 80 mm Hg is likely to have diabetes"
   ]
  },
  {
   "cell_type": "code",
   "execution_count": 14,
   "metadata": {},
   "outputs": [
    {
     "data": {
      "image/png": "[encoded data removed]",
      "text/plain": [
       "<Figure size 432x288 with 1 Axes>"
      ]
     },
     "metadata": {
      "needs_background": "light"
     },
     "output_type": "display_data"
    }
   ],
   "source": [
    "positive_glucose = preprocDf[preprocDf[\"Outcome\"]==1][\"BMI\"]\n",
    "negative_glucose = preprocDf[preprocDf[\"Outcome\"]==0][\"BMI\"]\n",
    "\n",
    "plt.boxplot([positive_glucose, negative_glucose])\n",
    "plt.xticks([1,2],('Tested Positive','Tested Negative'))\n",
    "plt.ylabel('BMI')\n",
    "plt.grid()\n",
    "plt.show()"
   ]
  },
  {
   "cell_type": "markdown",
   "metadata": {},
   "source": [
    "#### Observations :"
   ]
  },
  {
   "cell_type": "markdown",
   "metadata": {},
   "source": [
    "1. More than 75 percent of patients with diabetes had BMI greater than 30\n",
    "<br><br>\n",
    "2. 50 percent of patients without diabetes had BMI less than 30\n",
    "<br><br>\n",
    "3. BMI can be a major feature to decide whethere a patient is diabetic\n",
    "<br><br>\n",
    "4. Patient with BMI greater than 30 has higher chances of having diabetes"
   ]
  },
  {
   "cell_type": "code",
   "execution_count": 15,
   "metadata": {},
   "outputs": [
    {
     "data": {
      "image/png": "[encoded data removed]",
      "text/plain": [
       "<Figure size 432x288 with 1 Axes>"
      ]
     },
     "metadata": {
      "needs_background": "light"
     },
     "output_type": "display_data"
    }
   ],
   "source": [
    "positive_glucose = preprocDf[preprocDf[\"Outcome\"]==1][\"Age\"]\n",
    "negative_glucose = preprocDf[preprocDf[\"Outcome\"]==0][\"Age\"]\n",
    "\n",
    "plt.boxplot([positive_glucose, negative_glucose])\n",
    "plt.xticks([1,2],('Tested Positive','Tested Negative'))\n",
    "plt.ylabel(\"Patient Age\")\n",
    "plt.grid()\n",
    "plt.show()"
   ]
  },
  {
   "cell_type": "markdown",
   "metadata": {},
   "source": [
    "#### Observations :"
   ]
  },
  {
   "cell_type": "markdown",
   "metadata": {},
   "source": [
    "1. More than 75 percent of patients tested negative had age less than 38\n",
    "<br><br>\n",
    "2. More than 50 percent of patients with diabetes were of age greater than 35\n",
    "<br><br>\n",
    "3. Patient with age greater than 35 years have chances of having diabetes\n",
    "<br><br>\n",
    "4. Age can be considered as one of the major feature for classification"
   ]
  },
  {
   "cell_type": "code",
   "execution_count": 16,
   "metadata": {},
   "outputs": [
    {
     "data": {
      "image/png": "[encoded data removed]",
      "text/plain": [
       "<Figure size 432x288 with 1 Axes>"
      ]
     },
     "metadata": {
      "needs_background": "light"
     },
     "output_type": "display_data"
    }
   ],
   "source": [
    "positive_glucose = preprocDf[preprocDf[\"Outcome\"]==1][\"DiabetesPedigreeFunction\"]\n",
    "negative_glucose = preprocDf[preprocDf[\"Outcome\"]==0][\"DiabetesPedigreeFunction\"]\n",
    "\n",
    "plt.boxplot([positive_glucose, negative_glucose])\n",
    "plt.xticks([1,2],('Tested Positive','Tested Negative'))\n",
    "plt.ylabel('Diabetes Pedigree Function value')\n",
    "plt.grid()\n",
    "plt.show()"
   ]
  },
  {
   "cell_type": "markdown",
   "metadata": {},
   "source": [
    "#### Observations :"
   ]
  },
  {
   "cell_type": "markdown",
   "metadata": {},
   "source": [
    "1. More than 50 percent of patient with Pedigree function value greater than 0.4 had diabetes\n",
    "<br><br>\n",
    "2. Among the patients tested negative for diabetes 50 percent of them had diabetes pedigree function vaue less than 0.3\n",
    "<br><br>\n",
    "3. If the diabetes pedigree function value is greater than 0.5 it is highly likely to have diabetes"
   ]
  },
  {
   "cell_type": "markdown",
   "metadata": {},
   "source": [
    "## Model Building"
   ]
  },
  {
   "cell_type": "markdown",
   "metadata": {},
   "source": [
    "1. Features taken into cosideration    [\"Pregnancies\",\"Glucose\",\"BloodPressure\",\"BMI\",\"DiabetesPedigreeFunction\",\"Age\"]\n",
    "<br><br>\n",
    "2. Since it's a classification problem logistic regression and knn algorithms are used to train the model.\n",
    "<br><br>\n",
    "3. The given data is split into train and test in the ratio 8:2. \n",
    "<br><br>\n",
    "3. PCA can be used to reduce the dimension from 6 features to 2 main features. Accuracy of model will be evaluated with and without dimensionality reduction.\n",
    "<br><br>"
   ]
  },
  {
   "cell_type": "code",
   "execution_count": 17,
   "metadata": {},
   "outputs": [
    {
     "data": {
      "text/html": [
       "<div>\n",
       "<style scoped>\n",
       "    .dataframe tbody tr th:only-of-type {\n",
       "        vertical-align: middle;\n",
       "    }\n",
       "\n",
       "    .dataframe tbody tr th {\n",
       "        vertical-align: top;\n",
       "    }\n",
       "\n",
       "    .dataframe thead th {\n",
       "        text-align: right;\n",
       "    }\n",
       "</style>\n",
       "<table border=\"1\" class=\"dataframe\">\n",
       "  <thead>\n",
       "    <tr style=\"text-align: right;\">\n",
       "      <th></th>\n",
       "      <th>Pregnancies</th>\n",
       "      <th>Glucose</th>\n",
       "      <th>BloodPressure</th>\n",
       "      <th>BMI</th>\n",
       "      <th>DiabetesPedigreeFunction</th>\n",
       "      <th>Age</th>\n",
       "    </tr>\n",
       "  </thead>\n",
       "  <tbody>\n",
       "    <tr>\n",
       "      <th>0</th>\n",
       "      <td>6.0</td>\n",
       "      <td>148.0</td>\n",
       "      <td>72.0</td>\n",
       "      <td>33.600000</td>\n",
       "      <td>0.627</td>\n",
       "      <td>50.0</td>\n",
       "    </tr>\n",
       "    <tr>\n",
       "      <th>1</th>\n",
       "      <td>1.0</td>\n",
       "      <td>85.0</td>\n",
       "      <td>66.0</td>\n",
       "      <td>26.600000</td>\n",
       "      <td>0.351</td>\n",
       "      <td>31.0</td>\n",
       "    </tr>\n",
       "    <tr>\n",
       "      <th>2</th>\n",
       "      <td>8.0</td>\n",
       "      <td>183.0</td>\n",
       "      <td>64.0</td>\n",
       "      <td>23.300000</td>\n",
       "      <td>0.672</td>\n",
       "      <td>32.0</td>\n",
       "    </tr>\n",
       "    <tr>\n",
       "      <th>3</th>\n",
       "      <td>1.0</td>\n",
       "      <td>89.0</td>\n",
       "      <td>66.0</td>\n",
       "      <td>19.179925</td>\n",
       "      <td>0.167</td>\n",
       "      <td>21.0</td>\n",
       "    </tr>\n",
       "    <tr>\n",
       "      <th>4</th>\n",
       "      <td>0.0</td>\n",
       "      <td>137.0</td>\n",
       "      <td>40.0</td>\n",
       "      <td>43.100000</td>\n",
       "      <td>2.288</td>\n",
       "      <td>33.0</td>\n",
       "    </tr>\n",
       "  </tbody>\n",
       "</table>\n",
       "</div>"
      ],
      "text/plain": [
       "   Pregnancies  Glucose  BloodPressure        BMI  DiabetesPedigreeFunction  \\\n",
       "0          6.0    148.0           72.0  33.600000                     0.627   \n",
       "1          1.0     85.0           66.0  26.600000                     0.351   \n",
       "2          8.0    183.0           64.0  23.300000                     0.672   \n",
       "3          1.0     89.0           66.0  19.179925                     0.167   \n",
       "4          0.0    137.0           40.0  43.100000                     2.288   \n",
       "\n",
       "    Age  \n",
       "0  50.0  \n",
       "1  31.0  \n",
       "2  32.0  \n",
       "3  21.0  \n",
       "4  33.0  "
      ]
     },
     "execution_count": 17,
     "metadata": {},
     "output_type": "execute_result"
    }
   ],
   "source": [
    "from sklearn import datasets, linear_model, metrics\n",
    "from sklearn.model_selection import train_test_split\n",
    "\n",
    "# Features that are considered for analysis\n",
    "\n",
    "features = [\"Pregnancies\",\"Glucose\",\"BloodPressure\",\"BMI\",\"DiabetesPedigreeFunction\",\"Age\"]\n",
    "\n",
    "outcomeDf = preprocDf.loc[:,\"Outcome\"]\n",
    "featuresDf = preprocDf.loc[:,features]\n",
    "\n",
    "featuresDf.head()"
   ]
  },
  {
   "cell_type": "markdown",
   "metadata": {},
   "source": [
    "#### Dimensionality Reduction using PCA"
   ]
  },
  {
   "cell_type": "code",
   "execution_count": 18,
   "metadata": {
    "scrolled": true
   },
   "outputs": [
    {
     "name": "stdout",
     "output_type": "stream",
     "text": [
      "(676, 2)\n",
      "(676,)\n"
     ]
    },
    {
     "data": {
      "text/html": [
       "<div>\n",
       "<style scoped>\n",
       "    .dataframe tbody tr th:only-of-type {\n",
       "        vertical-align: middle;\n",
       "    }\n",
       "\n",
       "    .dataframe tbody tr th {\n",
       "        vertical-align: top;\n",
       "    }\n",
       "\n",
       "    .dataframe thead th {\n",
       "        text-align: right;\n",
       "    }\n",
       "</style>\n",
       "<table border=\"1\" class=\"dataframe\">\n",
       "  <thead>\n",
       "    <tr style=\"text-align: right;\">\n",
       "      <th></th>\n",
       "      <th>principal component 1</th>\n",
       "      <th>principal component 2</th>\n",
       "    </tr>\n",
       "  </thead>\n",
       "  <tbody>\n",
       "    <tr>\n",
       "      <th>0</th>\n",
       "      <td>-1.525006</td>\n",
       "      <td>-0.192048</td>\n",
       "    </tr>\n",
       "    <tr>\n",
       "      <th>1</th>\n",
       "      <td>1.459748</td>\n",
       "      <td>-0.591650</td>\n",
       "    </tr>\n",
       "    <tr>\n",
       "      <th>2</th>\n",
       "      <td>-0.670855</td>\n",
       "      <td>-0.470986</td>\n",
       "    </tr>\n",
       "    <tr>\n",
       "      <th>3</th>\n",
       "      <td>2.251888</td>\n",
       "      <td>-1.142887</td>\n",
       "    </tr>\n",
       "    <tr>\n",
       "      <th>4</th>\n",
       "      <td>0.464882</td>\n",
       "      <td>3.938238</td>\n",
       "    </tr>\n",
       "  </tbody>\n",
       "</table>\n",
       "</div>"
      ],
      "text/plain": [
       "   principal component 1  principal component 2\n",
       "0              -1.525006              -0.192048\n",
       "1               1.459748              -0.591650\n",
       "2              -0.670855              -0.470986\n",
       "3               2.251888              -1.142887\n",
       "4               0.464882               3.938238"
      ]
     },
     "execution_count": 18,
     "metadata": {},
     "output_type": "execute_result"
    }
   ],
   "source": [
    "# PCA is used to reduce the dimension to 2\n",
    "# Here the two most prominent feature are considered (Number of components)\n",
    "\n",
    "from sklearn.decomposition import PCA\n",
    "from sklearn.preprocessing import StandardScaler\n",
    "\n",
    "x = preprocDf.loc[:,features].values\n",
    "x = StandardScaler().fit_transform(x)\n",
    "\n",
    "\n",
    "pca = PCA(n_components=2)\n",
    "principalComponents = pca.fit_transform(x)\n",
    "pcaDf = pd.DataFrame(data = principalComponents, columns = ['principal component 1', 'principal component 2'])\n",
    "\n",
    "\n",
    "print(pcaDf.shape)\n",
    "print(preprocDf[\"Outcome\"].shape)\n",
    "pcaDf.head()"
   ]
  },
  {
   "cell_type": "code",
   "execution_count": 19,
   "metadata": {},
   "outputs": [
    {
     "data": {
      "text/plain": [
       "(676, 3)"
      ]
     },
     "execution_count": 19,
     "metadata": {},
     "output_type": "execute_result"
    }
   ],
   "source": [
    "# Concat the outcome column with two principal components\n",
    "\n",
    "pcaDf.reset_index(drop=True, inplace=True)\n",
    "preprocDf.reset_index(drop=True, inplace=True)\n",
    "\n",
    "pcafinalDf = pd.concat([pcaDf,preprocDf[[\"Outcome\"]]],axis=1)\n",
    "pcafinalDf.shape"
   ]
  },
  {
   "cell_type": "code",
   "execution_count": 20,
   "metadata": {},
   "outputs": [
    {
     "data": {
      "image/png": "[encoded data removed]",
      "text/plain": [
       "<Figure size 576x576 with 1 Axes>"
      ]
     },
     "metadata": {
      "needs_background": "light"
     },
     "output_type": "display_data"
    }
   ],
   "source": [
    "# Plot the datapoints considering principal component 1 and principal component2\n",
    "\n",
    "fig = plt.figure(figsize = (8,8))\n",
    "ax = fig.add_subplot(1,1,1) \n",
    "ax.set_xlabel('Principal Component 1', fontsize = 15)\n",
    "ax.set_ylabel('Principal Component 2', fontsize = 15)\n",
    "ax.set_title('2 component PCA', fontsize = 20)\n",
    "targets = [0,1]\n",
    "colors = ['r', 'g']\n",
    "for target, color in zip(targets,colors):\n",
    "    req_row = pcafinalDf['Outcome'] == target\n",
    "    ax.scatter(pcafinalDf.loc[req_row, 'principal component 1']\n",
    "               , pcafinalDf.loc[req_row, 'principal component 2']\n",
    "               , c = color\n",
    "               , s = 50)\n",
    "ax.legend(targets)\n",
    "ax.grid()"
   ]
  },
  {
   "cell_type": "markdown",
   "metadata": {},
   "source": [
    "#### Spliting dataset into train and test"
   ]
  },
  {
   "cell_type": "code",
   "execution_count": 21,
   "metadata": {},
   "outputs": [
    {
     "data": {
      "text/plain": [
       "(136, 6)"
      ]
     },
     "execution_count": 21,
     "metadata": {},
     "output_type": "execute_result"
    }
   ],
   "source": [
    "# Preprocessed data is split into train and test in the ratio 8:2\n",
    "\n",
    "featuresDf_train,featuresDf_test,outcomeDf_train,outcomeDf_test,pcaDf_train,pcaDf_test = train_test_split(featuresDf,outcomeDf,pcaDf,test_size=0.2,random_state=4)\n",
    "\n",
    "featuresDf_test.shape"
   ]
  },
  {
   "cell_type": "markdown",
   "metadata": {},
   "source": [
    "### Using Logistic Regression"
   ]
  },
  {
   "cell_type": "markdown",
   "metadata": {},
   "source": [
    "#### Logistic regression without dimensionality reduction(without PCA)"
   ]
  },
  {
   "cell_type": "code",
   "execution_count": 22,
   "metadata": {},
   "outputs": [
    {
     "data": {
      "text/plain": [
       "LogisticRegression(C=1.0, class_weight=None, dual=False, fit_intercept=True,\n",
       "                   intercept_scaling=1, l1_ratio=None, max_iter=100,\n",
       "                   multi_class='warn', n_jobs=None, penalty='l2',\n",
       "                   random_state=None, solver='warn', tol=0.0001, verbose=0,\n",
       "                   warm_start=False)"
      ]
     },
     "execution_count": 22,
     "metadata": {},
     "output_type": "execute_result"
    }
   ],
   "source": [
    "# Building a logistic regression model for the train data\n",
    "\n",
    "model = linear_model.LogisticRegression()\n",
    "model.fit(featuresDf_train,outcomeDf_train)\n"
   ]
  },
  {
   "cell_type": "code",
   "execution_count": 23,
   "metadata": {},
   "outputs": [],
   "source": [
    "# Test data is given as input for model to predict the outcome\n",
    "\n",
    "outcomeDf_pred = model.predict(featuresDf_test)\n"
   ]
  },
  {
   "cell_type": "code",
   "execution_count": 24,
   "metadata": {},
   "outputs": [
    {
     "name": "stdout",
     "output_type": "stream",
     "text": [
      "Accuracy of Logistic Regression without pca :  80.14705882352942\n"
     ]
    }
   ],
   "source": [
    "# Accuracy is computed by taking the test outcome as reference\n",
    "\n",
    "print(\"Accuracy of Logistic Regression without pca : \",metrics.accuracy_score(outcomeDf_test,outcomeDf_pred)*100)"
   ]
  },
  {
   "cell_type": "code",
   "execution_count": 25,
   "metadata": {},
   "outputs": [
    {
     "name": "stdout",
     "output_type": "stream",
     "text": [
      "For class 0:\n",
      "\n",
      "Data points predicted as 0 =  86\n",
      "Data points predicted as 1 =  4\n",
      "\n",
      "For class 1:\n",
      "\n",
      "Data points predicted as 0 =  23\n",
      "Data points predicted as 1 =  23\n"
     ]
    }
   ],
   "source": [
    "confusion = metrics.confusion_matrix(outcomeDf_test,outcomeDf_pred)\n",
    "\n",
    "print(\"For class 0:\\n\")\n",
    "print(\"Data points predicted as 0 = \",confusion[0,0])\n",
    "print(\"Data points predicted as 1 = \",confusion[0,1])\n",
    "\n",
    "print(\"\\nFor class 1:\\n\")\n",
    "print(\"Data points predicted as 0 = \",confusion[1,0])\n",
    "print(\"Data points predicted as 1 = \",confusion[1,1])\n"
   ]
  },
  {
   "cell_type": "markdown",
   "metadata": {},
   "source": [
    "#### Logistic regression with dimensionality reduction(PCA)"
   ]
  },
  {
   "cell_type": "code",
   "execution_count": 26,
   "metadata": {},
   "outputs": [
    {
     "data": {
      "text/plain": [
       "LogisticRegression(C=1.0, class_weight=None, dual=False, fit_intercept=True,\n",
       "                   intercept_scaling=1, l1_ratio=None, max_iter=100,\n",
       "                   multi_class='warn', n_jobs=None, penalty='l2',\n",
       "                   random_state=None, solver='warn', tol=0.0001, verbose=0,\n",
       "                   warm_start=False)"
      ]
     },
     "execution_count": 26,
     "metadata": {},
     "output_type": "execute_result"
    }
   ],
   "source": [
    "model = linear_model.LogisticRegression()\n",
    "model.fit(pcaDf_train,outcomeDf_train)\n"
   ]
  },
  {
   "cell_type": "code",
   "execution_count": 27,
   "metadata": {},
   "outputs": [
    {
     "name": "stdout",
     "output_type": "stream",
     "text": [
      "Accuracy of Logistic Regression with pca :  75.0\n"
     ]
    }
   ],
   "source": [
    "pcaoutDf_pred = model.predict(pcaDf_test)\n",
    "print(\"Accuracy of Logistic Regression with pca : \",metrics.accuracy_score(outcomeDf_test,pcaoutDf_pred)*100)"
   ]
  },
  {
   "cell_type": "code",
   "execution_count": 28,
   "metadata": {},
   "outputs": [
    {
     "name": "stdout",
     "output_type": "stream",
     "text": [
      "For class 0:\n",
      "\n",
      "Data points predicted as 0 =  86\n",
      "Data points predicted as 1 =  4\n",
      "\n",
      "For class 1:\n",
      "\n",
      "Data points predicted as 0 =  30\n",
      "Data points predicted as 1 =  16\n"
     ]
    }
   ],
   "source": [
    "confusion = metrics.confusion_matrix(outcomeDf_test,pcaoutDf_pred)\n",
    "\n",
    "print(\"For class 0:\\n\")\n",
    "print(\"Data points predicted as 0 = \",confusion[0,0])\n",
    "print(\"Data points predicted as 1 = \",confusion[0,1])\n",
    "\n",
    "print(\"\\nFor class 1:\\n\")\n",
    "print(\"Data points predicted as 0 = \",confusion[1,0])\n",
    "print(\"Data points predicted as 1 = \",confusion[1,1])"
   ]
  },
  {
   "cell_type": "markdown",
   "metadata": {},
   "source": [
    "### Using K-Nearest Neighbour"
   ]
  },
  {
   "cell_type": "markdown",
   "metadata": {},
   "source": [
    "1. From the scatter plot(Principal component 1 vs principal component 2) it can be inferred that two classes are not linearly separable.\n",
    "<br><br>\n",
    "2. Logistic regression might be failing to fit a accurate plane that can separate the two classes with more accuracy.\n",
    "<br><br>\n",
    "3. K-NN algorithm finds k-nearest neigbours for a data point and decides it's class based on majotity rule. \n",
    "<br><br>\n",
    "4. Best values of k can be chosen by a technique called cross validation(10 fold). Here the train data is split into 10 parts. In each interval one part among 10 is chosen as test and knn is applied on that. Mean of accuracy is calculated for all 10 parts(cv_scores). This is repeated for different values of k. k value that gives best accuracy is chosen as optimal k value.\n",
    "<br><br>\n",
    "5. Model is designed for dataset with and without pca and accuracy is tested for both cases."
   ]
  },
  {
   "cell_type": "markdown",
   "metadata": {},
   "source": [
    "#### K-NN without dimensionality reduction(without PCA) :"
   ]
  },
  {
   "cell_type": "markdown",
   "metadata": {},
   "source": [
    "Choosing optimal value of k"
   ]
  },
  {
   "cell_type": "code",
   "execution_count": 29,
   "metadata": {},
   "outputs": [
    {
     "name": "stdout",
     "output_type": "stream",
     "text": [
      "\n",
      "The optimal value of k(neighbours) = 33.\n"
     ]
    }
   ],
   "source": [
    "from sklearn.model_selection import cross_val_score\n",
    "from sklearn.metrics import accuracy_score\n",
    "from sklearn import neighbors\n",
    "\n",
    "# Here cv_score is calculated for k values from 1 to 50\n",
    "\n",
    "possible_k_values = list(range(1,50))\n",
    "\n",
    "cv_scores = []\n",
    "\n",
    "# 10-fold cross validation\n",
    "\n",
    "for k in possible_k_values:\n",
    "    knn = neighbors.KNeighborsClassifier(n_neighbors=k)\n",
    "    scores = cross_val_score(knn, featuresDf_train,outcomeDf_train, cv=10, scoring='accuracy')\n",
    "    cv_scores.append(scores.mean())\n",
    "\n",
    "# choosing the optimal k that has more cv score     \n",
    "    \n",
    "optimal_k = possible_k_values[cv_scores.index(max(cv_scores))]\n",
    "\n",
    "print('\\nThe optimal value of k(neighbours) = %d.' % optimal_k)\n"
   ]
  },
  {
   "cell_type": "code",
   "execution_count": 30,
   "metadata": {},
   "outputs": [
    {
     "name": "stdout",
     "output_type": "stream",
     "text": [
      "Accuracy of knn without pca : 83.088235\n"
     ]
    }
   ],
   "source": [
    "\n",
    "knnModel = neighbors.KNeighborsClassifier(optimal_k)\n",
    "knnModel.fit(featuresDf_train,outcomeDf_train)\n",
    "knnOutcome_pred = knnModel.predict(featuresDf_test)\n",
    "print(\"Accuracy of knn without pca : %f\" % (metrics.accuracy_score(outcomeDf_test,knnOutcome_pred)*100))\n"
   ]
  },
  {
   "cell_type": "code",
   "execution_count": 31,
   "metadata": {},
   "outputs": [
    {
     "name": "stdout",
     "output_type": "stream",
     "text": [
      "For class 0:\n",
      "\n",
      "Data points predicted as 0 =  88\n",
      "Data points predicted as 1 =  2\n",
      "\n",
      "For class 1:\n",
      "\n",
      "Data points predicted as 0 =  21\n",
      "Data points predicted as 1 =  25\n"
     ]
    }
   ],
   "source": [
    "confusion = metrics.confusion_matrix(outcomeDf_test,knnOutcome_pred)\n",
    "\n",
    "print(\"For class 0:\\n\")\n",
    "print(\"Data points predicted as 0 = \",confusion[0,0])\n",
    "print(\"Data points predicted as 1 = \",confusion[0,1])\n",
    "\n",
    "print(\"\\nFor class 1:\\n\")\n",
    "print(\"Data points predicted as 0 = \",confusion[1,0])\n",
    "print(\"Data points predicted as 1 = \",confusion[1,1])"
   ]
  },
  {
   "cell_type": "markdown",
   "metadata": {},
   "source": [
    "#### K-NN with dimensionality reduction(with PCA)"
   ]
  },
  {
   "cell_type": "markdown",
   "metadata": {},
   "source": [
    "Choosing optimal value of k"
   ]
  },
  {
   "cell_type": "code",
   "execution_count": 32,
   "metadata": {},
   "outputs": [
    {
     "name": "stdout",
     "output_type": "stream",
     "text": [
      "\n",
      "The optimal value of k(neighbours) = 41.\n"
     ]
    }
   ],
   "source": [
    "\n",
    "# Here cv_score is calculated for k values from 1 to 50\n",
    "\n",
    "possible_k_values = list(range(1,50))\n",
    "\n",
    "cv_scores = []\n",
    "\n",
    "# 10-fold cross validation\n",
    "\n",
    "for k in possible_k_values:\n",
    "    knn = neighbors.KNeighborsClassifier(n_neighbors=k)\n",
    "    scores = cross_val_score(knn, pcaDf_train,outcomeDf_train, cv=10, scoring='accuracy')\n",
    "    cv_scores.append(scores.mean())\n",
    "\n",
    "# choosing the optimal k that has more cv score     \n",
    "    \n",
    "optimal_k = possible_k_values[cv_scores.index(max(cv_scores))]\n",
    "\n",
    "print('\\nThe optimal value of k(neighbours) = %d.' % optimal_k)\n"
   ]
  },
  {
   "cell_type": "code",
   "execution_count": 33,
   "metadata": {},
   "outputs": [],
   "source": [
    "\n",
    "knnModel = neighbors.KNeighborsClassifier(optimal_k)\n",
    "knnModel.fit(pcaDf_train,outcomeDf_train)\n",
    "knnOutcome_pred = knnModel.predict(pcaDf_test)"
   ]
  },
  {
   "cell_type": "code",
   "execution_count": 34,
   "metadata": {},
   "outputs": [
    {
     "name": "stdout",
     "output_type": "stream",
     "text": [
      "Accuracy of knn with pca:  75.73529411764706\n"
     ]
    }
   ],
   "source": [
    "print(\"Accuracy of knn with pca: \",metrics.accuracy_score(outcomeDf_test,knnOutcome_pred)*100)"
   ]
  },
  {
   "cell_type": "code",
   "execution_count": 35,
   "metadata": {},
   "outputs": [
    {
     "name": "stdout",
     "output_type": "stream",
     "text": [
      "For class 0:\n",
      "\n",
      "Data points predicted as 0 =  86\n",
      "Data points predicted as 1 =  4\n",
      "\n",
      "For class 1:\n",
      "\n",
      "Data points predicted as 0 =  29\n",
      "Data points predicted as 1 =  17\n"
     ]
    }
   ],
   "source": [
    "confusion = metrics.confusion_matrix(outcomeDf_test,knnOutcome_pred)\n",
    "\n",
    "print(\"For class 0:\\n\")\n",
    "print(\"Data points predicted as 0 = \",confusion[0,0])\n",
    "print(\"Data points predicted as 1 = \",confusion[0,1])\n",
    "\n",
    "print(\"\\nFor class 1:\\n\")\n",
    "print(\"Data points predicted as 0 = \",confusion[1,0])\n",
    "print(\"Data points predicted as 1 = \",confusion[1,1])"
   ]
  },
  {
   "cell_type": "markdown",
   "metadata": {},
   "source": [
    "## Conclusion :"
   ]
  },
  {
   "cell_type": "markdown",
   "metadata": {},
   "source": [
    "1. Data preprocession was done to replace the missing values with appropriate ones. The rows containing invalid inputs(like zero values) for certain columns were eliminated.\n",
    "<br><br>\n",
    "2. Exploratoty data analysis was made to get insight about the distribution of the data with respect to different  features. Probability density function and Box plot tools were used for analysis.\n",
    "<br><br>\n",
    "3. PCA was used for dimensionality reduction and principal components were plotted using 2d-scatter plot. \n",
    "<br><br>\n",
    "4. Model was trained using Logistic regression. Model was trained with and without dimensionality reduction.Accuracy was ranging between 72% to 80%.\n",
    "<br><br>\n",
    "4. Model was trained using K-NN. Optimal value for k was chosen using cross validation technique. Model was trained with and without dimensionality reduction.Accuracy was ranging between 72% to 80%.\n"
   ]
  },
  {
   "cell_type": "code",
   "execution_count": null,
   "metadata": {},
   "outputs": [],
   "source": []
  }
 ],
 "metadata": {
  "kernelspec": {
   "display_name": "Python 3",
   "language": "python",
   "name": "python3"
  },
  "language_info": {
   "codemirror_mode": {
    "name": "ipython",
    "version": 3
   },
   "file_extension": ".py",
   "mimetype": "text/x-python",
   "name": "python",
   "nbconvert_exporter": "python",
   "pygments_lexer": "ipython3",
   "version": "3.7.1"
  }
 },
 "nbformat": 4,
 "nbformat_minor": 2
}
